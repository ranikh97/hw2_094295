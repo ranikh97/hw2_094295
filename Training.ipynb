{
 "cells": [
  {
   "cell_type": "code",
   "execution_count": 11,
   "metadata": {},
   "outputs": [],
   "source": [
    "import torch\n",
    "from torch.utils.data.dataloader import DataLoader\n",
    "from torch.utils.data.dataset import Dataset, TensorDataset\n",
    "from torchvision import transforms, utils\n",
    "import torch.nn as nn\n",
    "import torch.optim as optim\n",
    "import pandas as pd\n",
    "import numpy as np\n",
    "import matplotlib.pyplot as plt\n",
    "import os\n",
    "from PIL import Image\n",
    "from sklearn.metrics import roc_auc_score"
   ]
  },
  {
   "cell_type": "code",
   "execution_count": 12,
   "metadata": {},
   "outputs": [],
   "source": [
    "ROOT = \"/StudentData/HW2/train/\"\n",
    "TestFolder  = \"/StudentData/HW2/test/\""
   ]
  },
  {
   "cell_type": "code",
   "execution_count": 13,
   "metadata": {},
   "outputs": [],
   "source": [
    "class ImageDataset(Dataset):\n",
    "    def __init__(self,root,transform=None):\n",
    "        super().__init__()\n",
    "        self.root = root\n",
    "        self.transform = transform\n",
    "        self.idxtoImage = {i:file for i,file in enumerate(os.listdir(self.root))}\n",
    "\n",
    "        \n",
    "    def __len__(self):\n",
    "        return len(self.idxtoImage)\n",
    "    \n",
    "    def __getitem__(self,idx):\n",
    "        file = self.idxtoImage[idx]\n",
    "        image = Image.open(self.root+file).convert(\"RGB\")\n",
    "        if self.transform !=None:\n",
    "            image = self.transform(image)\n",
    "\n",
    "        label = int(file.split('_')[1].split('.')[0])\n",
    "        return image,label,file\n",
    "        "
   ]
  },
  {
   "cell_type": "code",
   "execution_count": 19,
   "metadata": {},
   "outputs": [],
   "source": [
    "# Hyper Parameters\n",
    "num_epochs = 20\n",
    "batch_size = 100\n",
    "learning_rate = 0.001\n",
    "\n",
    "transform_train = transforms.Compose([transforms.Resize((48,48)),transforms.ToTensor(),transforms.Normalize((0.5226, 0.4494, 0.4206), (0.2336, 0.2224, 0.2187))])\n",
    "transform_test = transforms.Compose([transforms.Resize((48,48)),transforms.ToTensor(),transforms.Normalize((0.5226, 0.4494, 0.4206), (0.2336, 0.2224, 0.2187))])\n",
    "\n",
    "train_dataset = ImageDataset(ROOT,transform_train)\n",
    "train_loader = torch.utils.data.DataLoader(dataset=train_dataset,\n",
    "                                           batch_size=batch_size, \n",
    "                                           shuffle=True)\n",
    "\n",
    "test_dataset = ImageDataset(TestFolder,transform_test)\n",
    "test_loader = torch.utils.data.DataLoader(dataset=test_dataset,\n",
    "                                           batch_size=batch_size, \n",
    "                                           shuffle=False)\n",
    "\n",
    "train_loader_all = torch.utils.data.DataLoader(dataset=train_dataset,\n",
    "                                           batch_size=len(train_dataset), \n",
    "                                           shuffle=False)\n",
    "test_loader_all = torch.utils.data.DataLoader(dataset=test_dataset,\n",
    "                                           batch_size=len(test_dataset), \n",
    "                                           shuffle=False)"
   ]
  },
  {
   "cell_type": "code",
   "execution_count": 20,
   "metadata": {},
   "outputs": [],
   "source": [
    "class Model(nn.Module):\n",
    "    def __init__(self):\n",
    "        super(Model, self).__init__()\n",
    "        self.layer1 = nn.Sequential(\n",
    "            nn.Conv2d(3, 32, kernel_size=3),\n",
    "            nn.BatchNorm2d(32),\n",
    "            nn.ReLU(),\n",
    "            nn.MaxPool2d(kernel_size=3,stride=2))\n",
    "        \n",
    "        self.layer2 = nn.Sequential(\n",
    "            nn.Conv2d(32, 64, kernel_size=3),\n",
    "            nn.BatchNorm2d(64),\n",
    "            nn.ReLU(),\n",
    "            nn.MaxPool2d(kernel_size=3,stride=2))\n",
    "        \n",
    "        self.layer3 = nn.Sequential(\n",
    "            nn.Conv2d(64, 64, kernel_size=3),\n",
    "            nn.BatchNorm2d(64),\n",
    "            nn.ReLU(),\n",
    "            nn.MaxPool2d(kernel_size=2,stride=2))\n",
    "        \n",
    "        self.layer4 = nn.Sequential(\n",
    "            nn.Conv2d(64, 128, kernel_size=2),\n",
    "            nn.BatchNorm2d(128),\n",
    "            nn.ReLU())\n",
    "        \n",
    "        self.fc1 = nn.Linear(2*2*128, 256)\n",
    "        self.ReLU = nn.ReLU()\n",
    "        self.dropout = nn.Dropout(0.25)\n",
    "        self.fc2 = nn.Linear(256,2)\n",
    "        \n",
    "    def forward(self, x):\n",
    "        out = self.layer1(x)\n",
    "        out = self.layer2(out)\n",
    "        out = self.layer3(out)\n",
    "        out = self.layer4(out)\n",
    "\n",
    "        out = out.view(out.size(0), -1)\n",
    "  \n",
    "        out = self.fc1(out)\n",
    "        out = self.ReLU(out)\n",
    "        out = self.dropout(out)\n",
    "        out = self.fc2(out)       \n",
    "\n",
    "        return out"
   ]
  },
  {
   "cell_type": "code",
   "execution_count": 21,
   "metadata": {},
   "outputs": [],
   "source": [
    "def to_gpu(x):\n",
    "    return x.cuda() if torch.cuda.is_available() else x"
   ]
  },
  {
   "cell_type": "code",
   "execution_count": 22,
   "metadata": {},
   "outputs": [
    {
     "name": "stdout",
     "output_type": "stream",
     "text": [
      "number of parameters:  221634\n",
      "Num of trainable parameters : 221634\n"
     ]
    }
   ],
   "source": [
    "model = Model()\n",
    "model = to_gpu(model)\n",
    "    \n",
    "# convert all the weights tensors to cuda()\n",
    "# Loss and Optimizer\n",
    "\n",
    "criterion = nn.CrossEntropyLoss()\n",
    "optimizer = torch.optim.Adam(model.parameters(), lr=learning_rate)\n",
    "\n",
    "print('number of parameters: ', sum(param.numel() for param in model.parameters()))\n",
    "print(f'Num of trainable parameters : {sum(p.numel() for p in model.parameters() if p.requires_grad)}')"
   ]
  },
  {
   "cell_type": "code",
   "execution_count": 23,
   "metadata": {},
   "outputs": [
    {
     "name": "stdout",
     "output_type": "stream",
     "text": [
      "Epoch [1/20], Iter [100/182] Loss: 0.1967\n",
      "loss of the model on the train images:  0.09889362005343855 %\n",
      "f1 of the model on the train images:  96.7601089477539 %\n",
      "loss of the model on the test images:  0.1107154618032643 %\n",
      "f1 of the model on the test images:  96.40718841552734 %\n",
      "Epoch [2/20], Iter [100/182] Loss: 0.0803\n",
      "loss of the model on the train images:  0.08006957488877525 %\n",
      "f1 of the model on the train images:  97.40533447265625 %\n",
      "loss of the model on the test images:  0.0991342451850899 %\n",
      "f1 of the model on the test images:  96.77809143066406 %\n",
      "Epoch [3/20], Iter [100/182] Loss: 0.0747\n",
      "loss of the model on the train images:  0.07717882941573695 %\n",
      "f1 of the model on the train images:  97.45121765136719 %\n",
      "loss of the model on the test images:  0.10363640214820377 %\n",
      "f1 of the model on the test images:  96.61093139648438 %\n",
      "Epoch [4/20], Iter [100/182] Loss: 0.1021\n",
      "loss of the model on the train images:  0.06489558739821767 %\n",
      "f1 of the model on the train images:  97.91708374023438 %\n",
      "loss of the model on the test images:  0.0985262252268244 %\n",
      "f1 of the model on the test images:  96.89403533935547 %\n",
      "Epoch [5/20], Iter [100/182] Loss: 0.1309\n",
      "loss of the model on the train images:  0.0552732537047622 %\n",
      "f1 of the model on the train images:  98.2604751586914 %\n",
      "loss of the model on the test images:  0.09536005355051307 %\n",
      "f1 of the model on the test images:  96.95122528076172 %\n",
      "Epoch [6/20], Iter [100/182] Loss: 0.0202\n",
      "loss of the model on the train images:  0.046737847518929045 %\n",
      "f1 of the model on the train images:  98.50492095947266 %\n",
      "loss of the model on the test images:  0.09201400452217118 %\n",
      "f1 of the model on the test images:  97.37918090820312 %\n",
      "Epoch [7/20], Iter [100/182] Loss: 0.0743\n",
      "loss of the model on the train images:  0.04243580721155867 %\n",
      "f1 of the model on the train images:  98.68440246582031 %\n",
      "loss of the model on the test images:  0.09376408865095162 %\n",
      "f1 of the model on the test images:  97.26858520507812 %\n",
      "Epoch [8/20], Iter [100/182] Loss: 0.0164\n",
      "loss of the model on the train images:  0.037720248491192855 %\n",
      "f1 of the model on the train images:  98.80593872070312 %\n",
      "loss of the model on the test images:  0.10056338240926871 %\n",
      "f1 of the model on the test images:  97.1931381225586 %\n",
      "Epoch [9/20], Iter [100/182] Loss: 0.0544\n",
      "loss of the model on the train images:  0.032535592324349806 %\n",
      "f1 of the model on the train images:  98.98199462890625 %\n",
      "loss of the model on the test images:  0.10544529593870287 %\n",
      "f1 of the model on the test images:  97.33575439453125 %\n",
      "Epoch [10/20], Iter [100/182] Loss: 0.0398\n",
      "loss of the model on the train images:  0.027372978120034593 %\n",
      "f1 of the model on the train images:  99.17164611816406 %\n",
      "loss of the model on the test images:  0.09871695470064878 %\n",
      "f1 of the model on the test images:  97.49049377441406 %\n",
      "Epoch [11/20], Iter [100/182] Loss: 0.0012\n",
      "loss of the model on the train images:  0.02291159958214769 %\n",
      "f1 of the model on the train images:  99.29312133789062 %\n",
      "loss of the model on the test images:  0.12987138715679528 %\n",
      "f1 of the model on the test images:  96.9917984008789 %\n",
      "Epoch [12/20], Iter [100/182] Loss: 0.0110\n",
      "loss of the model on the train images:  0.01767735052987414 %\n",
      "f1 of the model on the train images:  99.45848846435547 %\n",
      "loss of the model on the test images:  0.11912114241114649 %\n",
      "f1 of the model on the test images:  97.44442749023438 %\n",
      "Epoch [13/20], Iter [100/182] Loss: 0.0053\n",
      "loss of the model on the train images:  0.014856351373775714 %\n",
      "f1 of the model on the train images:  99.56217193603516 %\n",
      "loss of the model on the test images:  0.12275720746485425 %\n",
      "f1 of the model on the test images:  97.56171417236328 %\n",
      "Epoch [14/20], Iter [100/182] Loss: 0.0074\n",
      "loss of the model on the train images:  0.012681123009842154 %\n",
      "f1 of the model on the train images:  99.56745147705078 %\n",
      "loss of the model on the test images:  0.12162825100307094 %\n",
      "f1 of the model on the test images:  97.44602966308594 %\n",
      "Epoch [15/20], Iter [100/182] Loss: 0.0186\n",
      "loss of the model on the train images:  0.023557375614910482 %\n",
      "f1 of the model on the train images:  99.1640396118164 %\n",
      "loss of the model on the test images:  0.13911920892777013 %\n",
      "f1 of the model on the test images:  97.12911224365234 %\n",
      "Epoch [16/20], Iter [100/182] Loss: 0.0074\n",
      "loss of the model on the train images:  0.02120796172107351 %\n",
      "f1 of the model on the train images:  99.39015197753906 %\n",
      "loss of the model on the test images:  0.15360760658246572 %\n",
      "f1 of the model on the test images:  97.05028533935547 %\n",
      "Epoch [17/20], Iter [100/182] Loss: 0.0109\n",
      "loss of the model on the train images:  0.013890606071370593 %\n",
      "f1 of the model on the train images:  99.5528793334961 %\n",
      "loss of the model on the test images:  0.16154348479247974 %\n",
      "f1 of the model on the test images:  97.35723114013672 %\n",
      "Epoch [18/20], Iter [100/182] Loss: 0.0307\n",
      "loss of the model on the train images:  0.013485513561926248 %\n",
      "f1 of the model on the train images:  99.56900787353516 %\n",
      "loss of the model on the test images:  0.16592893459391397 %\n",
      "f1 of the model on the test images:  96.98613739013672 %\n",
      "Epoch [19/20], Iter [100/182] Loss: 0.0071\n",
      "loss of the model on the train images:  0.05088383821125493 %\n",
      "f1 of the model on the train images:  98.663818359375 %\n",
      "loss of the model on the test images:  0.19675537675130564 %\n",
      "f1 of the model on the test images:  96.536865234375 %\n",
      "Epoch [20/20], Iter [100/182] Loss: 0.0189\n",
      "loss of the model on the train images:  0.009480507346585804 %\n",
      "f1 of the model on the train images:  99.69900512695312 %\n",
      "loss of the model on the test images:  0.14566163007994412 %\n",
      "f1 of the model on the test images:  97.31361389160156 %\n"
     ]
    }
   ],
   "source": [
    "train_losses = []\n",
    "train_f1scores = []\n",
    "test_losses = []\n",
    "test_f1scores = []\n",
    "\n",
    "# auc_train = []\n",
    "# auc_test = []\n",
    "# softmax = nn.Softmax()\n",
    "for epoch in range(num_epochs):\n",
    "#     outputs_batch_train =[]\n",
    "#     labels_batch_train =[]\n",
    "    \n",
    "#     outputs_batch_test =[]\n",
    "#     labels_batch_test =[]\n",
    "    \n",
    "    for i, (images, labels,files) in enumerate(train_loader):\n",
    "        images = to_gpu(images)\n",
    "        labels = to_gpu(labels)\n",
    "        optimizer.zero_grad()\n",
    "        outputs = model(images)\n",
    "    \n",
    "        loss = criterion(outputs, labels)\n",
    "        loss.backward()\n",
    "        optimizer.step()\n",
    "        if ((i+1) % 100) == 0:\n",
    "            print ('Epoch [%d/%d], Iter [%d/%d] Loss: %.4f' \n",
    "                   %(epoch+1, num_epochs, i+1,\n",
    "                     len(train_dataset)//batch_size, loss.item()))\n",
    "    \n",
    "    train_loss = 0.0\n",
    "    train_tp = 0.0\n",
    "    train_fp = 0.0\n",
    "    train_fn = 0.0\n",
    "    \n",
    "    for images, labels,files in train_loader:\n",
    "        images = to_gpu(images)\n",
    "        labels = to_gpu(labels)\n",
    "        outputs = model(images)\n",
    "        \n",
    "#         outputs_batch_train += softmax(outputs)[:,1].tolist()\n",
    "#         labels_batch_train += labels.tolist()\n",
    "        \n",
    "    \n",
    "#     auc_train.append(roc_auc_score(labels_batch_train,outputs_batch_train))\n",
    "        train_loss += criterion(outputs,labels).item()\n",
    "\n",
    "        _, predicted = torch.max(outputs.data, 1)\n",
    "\n",
    "        train_tp += ((predicted.cpu() == 1) & (labels.cpu()==1)).sum()\n",
    "        train_fp += ((predicted.cpu() == 1) & (labels.cpu()==0)).sum()\n",
    "        train_fn += ((predicted.cpu() == 0) & (labels.cpu()==1)).sum()\n",
    "    \n",
    "    \n",
    "    train_loss = train_loss/len(train_loader)\n",
    "    train_f1 = 100*((2 * train_tp) / (2*train_tp + train_fp + train_fn))\n",
    "    \n",
    "    train_losses.append(train_loss)\n",
    "    train_f1scores.append(train_f1)\n",
    "    print('loss of the model on the train images: ',train_loss,'%')\n",
    "    print('f1 of the model on the train images: ',train_f1.item(),'%')\n",
    "    \n",
    "    test_loss = 0.0\n",
    "    test_tp = 0.0\n",
    "    test_fp = 0.0\n",
    "    test_fn = 0.0\n",
    "    \n",
    "    for images, labels,files in test_loader:\n",
    "        images = to_gpu(images)\n",
    "        labels = to_gpu(labels)\n",
    "        outputs = model(images)\n",
    "        \n",
    "#         outputs_batch_test += softmax(outputs)[:,1].tolist()\n",
    "#         labels_batch_test += labels.tolist()\n",
    "    \n",
    "#     auc_test.append(roc_auc_score(labels_batch_test,outputs_batch_test))\n",
    "        \n",
    "        \n",
    "        test_loss += criterion(outputs,labels).item()\n",
    "\n",
    "        _, predicted = torch.max(outputs.data, 1)\n",
    "\n",
    "        test_tp += ((predicted.cpu() == 1) & (labels.cpu()==1)).sum()\n",
    "        test_fp += ((predicted.cpu() == 1) & (labels.cpu()==0)).sum()\n",
    "        test_fn += ((predicted.cpu() == 0) & (labels.cpu()==1)).sum()\n",
    "    \n",
    "    \n",
    "    test_loss = test_loss/len(test_loader)\n",
    "    test_f1 = 100*((2 * test_tp) / (2*test_tp + test_fp + test_fn))\n",
    "    \n",
    "    test_losses.append(test_loss)\n",
    "    test_f1scores.append(test_f1)\n",
    "    print('loss of the model on the test images: ',test_loss,'%')\n",
    "    print('f1 of the model on the test images: ',test_f1.item(),'%')\n",
    "    \n",
    "#     if accuracy>=98:\n",
    "#         torch.save(model.state_dict(), 'model_98.pkl')"
   ]
  },
  {
   "cell_type": "code",
   "execution_count": null,
   "metadata": {},
   "outputs": [],
   "source": [
    "torch.save(model.state_dict(), 'model_regularized.pkl')"
   ]
  },
  {
   "cell_type": "code",
   "execution_count": null,
   "metadata": {},
   "outputs": [],
   "source": [
    "model = Model()\n",
    "model.load_state_dict(torch.load('model_regularized.pkl'))"
   ]
  },
  {
   "cell_type": "code",
   "execution_count": null,
   "metadata": {},
   "outputs": [],
   "source": [
    "torch.save(model,\"model_regularized.pt\")"
   ]
  },
  {
   "cell_type": "code",
   "execution_count": null,
   "metadata": {},
   "outputs": [],
   "source": [
    "model = torch.load('model_regularized.pkl')"
   ]
  },
  {
   "cell_type": "code",
   "execution_count": 24,
   "metadata": {},
   "outputs": [
    {
     "name": "stdout",
     "output_type": "stream",
     "text": [
      "f1 of the model on the test images:  97.31361389160156 %\n"
     ]
    }
   ],
   "source": [
    "# model.eval() \n",
    "tp = 0.0\n",
    "fp = 0.0\n",
    "fn = 0.0\n",
    "tn = 0.0\n",
    "for images, labels,files in test_loader:\n",
    "    images = to_gpu(images)\n",
    "    outputs = model(images)\n",
    "\n",
    "    _, predicted = torch.max(outputs.data, 1)\n",
    "\n",
    "    tp += ((predicted.cpu() == 1) & (labels==1)).sum()\n",
    "    fp += ((predicted.cpu() == 1) & (labels==0)).sum()\n",
    "    fn += ((predicted.cpu() == 0) & (labels==1)).sum()\n",
    "    tn += ((predicted.cpu() == 0) & (labels==0)).sum()\n",
    "\n",
    "        \n",
    "f1 = 100*((2 * tp) / (2*tp + fp + fn))\n",
    "\n",
    "print('f1 of the model on the test images: ',f1.item(),'%')\n"
   ]
  },
  {
   "cell_type": "code",
   "execution_count": null,
   "metadata": {},
   "outputs": [],
   "source": [
    "mean = 0.\n",
    "std = 0.\n",
    "nb_samples = 0.\n",
    "for (images, labels,files) in train_loader:\n",
    "    batch_samples = images.size(0)\n",
    "    data = images.view(batch_samples, images.size(1), -1)\n",
    "    mean += data.mean(2).sum(0)\n",
    "    std += data.std(2).sum(0)\n",
    "    nb_samples += batch_samples\n",
    "\n",
    "mean /= nb_samples\n",
    "std /= nb_samples"
   ]
  },
  {
   "cell_type": "code",
   "execution_count": 25,
   "metadata": {},
   "outputs": [
    {
     "data": {
      "text/plain": [
       "<matplotlib.legend.Legend at 0x7f08283ebf50>"
      ]
     },
     "execution_count": 25,
     "metadata": {},
     "output_type": "execute_result"
    },
    {
     "data": {
      "image/png": "[encoded data removed]",
      "text/plain": [
       "<Figure size 432x288 with 1 Axes>"
      ]
     },
     "metadata": {
      "needs_background": "light"
     },
     "output_type": "display_data"
    }
   ],
   "source": [
    "plt.locator_params(nbins=8)\n",
    "plt.plot(train_losses,label='Train')\n",
    "plt.plot(test_losses,label='Test')\n",
    "plt.xlabel('Epoch')\n",
    "plt.ylabel('Loss Value')\n",
    "plt.title('Value of Loss Function by Epoch graph')\n",
    "plt.legend()"
   ]
  },
  {
   "cell_type": "code",
   "execution_count": 26,
   "metadata": {},
   "outputs": [
    {
     "data": {
      "text/plain": [
       "<matplotlib.legend.Legend at 0x7f082832d610>"
      ]
     },
     "execution_count": 26,
     "metadata": {},
     "output_type": "execute_result"
    },
    {
     "data": {
      "image/png": "[encoded data removed]",
      "text/plain": [
       "<Figure size 432x288 with 1 Axes>"
      ]
     },
     "metadata": {
      "needs_background": "light"
     },
     "output_type": "display_data"
    }
   ],
   "source": [
    "plt.locator_params(nbins=7)\n",
    "plt.plot(train_f1scores,label='Train')\n",
    "plt.plot(test_f1scores,label='Test')\n",
    "plt.xlabel('Epoch')\n",
    "plt.ylabel('F1 Score')\n",
    "plt.title('F1 Score by Epoch graph')\n",
    "plt.legend()"
   ]
  },
  {
   "cell_type": "code",
   "execution_count": 18,
   "metadata": {},
   "outputs": [
    {
     "data": {
      "text/plain": [
       "<matplotlib.legend.Legend at 0x7f082b84a650>"
      ]
     },
     "execution_count": 18,
     "metadata": {},
     "output_type": "execute_result"
    },
    {
     "data": {
      "image/png": "[encoded data removed]",
      "text/plain": [
       "<Figure size 432x288 with 1 Axes>"
      ]
     },
     "metadata": {
      "needs_background": "light"
     },
     "output_type": "display_data"
    }
   ],
   "source": [
    "plt.locator_params(nbins=8)\n",
    "plt.plot(auc_train,label='Train')\n",
    "plt.plot(auc_test,label='Test')\n",
    "plt.xlabel('Epoch')\n",
    "plt.ylabel('AUC')\n",
    "plt.title('AUC by epoch')\n",
    "plt.legend()"
   ]
  },
  {
   "cell_type": "code",
   "execution_count": 27,
   "metadata": {},
   "outputs": [
    {
     "name": "stderr",
     "output_type": "stream",
     "text": [
      "/home/student/.conda/envs/hw2/lib/python3.7/site-packages/ipykernel_launcher.py:10: UserWarning: Implicit dimension choice for softmax has been deprecated. Change the call to include dim=X as an argument.\n",
      "  # Remove the CWD from sys.path while we load stuff.\n"
     ]
    }
   ],
   "source": [
    "from sklearn.metrics import roc_curve, auc\n",
    "train_loader_all = torch.utils.data.DataLoader(dataset=train_dataset,\n",
    "                                           batch_size=len(train_dataset), \n",
    "                                           shuffle=False)\n",
    "fpr_train = None\n",
    "tpr_train = None\n",
    "model.cpu()\n",
    "for images, labels,files in train_loader_all:\n",
    "        softmax = nn.Softmax()\n",
    "        outputs = softmax(model(images))\n",
    "#         labels = to_gpu(labels)\n",
    "        fpr_train,tpr_train,_ = roc_curve(labels,outputs[:,1].tolist())\n",
    "        \n",
    "auc_train = auc(fpr_train,tpr_train) \n"
   ]
  },
  {
   "cell_type": "code",
   "execution_count": 28,
   "metadata": {},
   "outputs": [
    {
     "name": "stderr",
     "output_type": "stream",
     "text": [
      "/home/student/.conda/envs/hw2/lib/python3.7/site-packages/ipykernel_launcher.py:8: UserWarning: Implicit dimension choice for softmax has been deprecated. Change the call to include dim=X as an argument.\n",
      "  \n"
     ]
    }
   ],
   "source": [
    "test_loader_all = torch.utils.data.DataLoader(dataset=test_dataset,\n",
    "                                           batch_size=len(test_dataset), \n",
    "                                           shuffle=False)\n",
    "fpr_test = None\n",
    "tpr_test = None\n",
    "for images, labels,files in test_loader_all:\n",
    "        softmax = nn.Softmax()\n",
    "        outputs = softmax(model(images))\n",
    "        fpr_test,tpr_test,_ = roc_curve(labels,outputs[:,1].tolist())\n",
    "        \n",
    "auc_test = auc(fpr_test,tpr_test) "
   ]
  },
  {
   "cell_type": "code",
   "execution_count": 30,
   "metadata": {},
   "outputs": [
    {
     "data": {
      "text/plain": [
       "<matplotlib.legend.Legend at 0x7f0828089590>"
      ]
     },
     "execution_count": 30,
     "metadata": {},
     "output_type": "execute_result"
    },
    {
     "data": {
      "image/png": "[encoded data removed]",
      "text/plain": [
       "<Figure size 432x288 with 1 Axes>"
      ]
     },
     "metadata": {
      "needs_background": "light"
     },
     "output_type": "display_data"
    }
   ],
   "source": [
    "plt.figure()\n",
    "plt.plot(fpr_train,tpr_train,label='ROC Curve of Train set (AUC = %0.5f)' % auc_train)\n",
    "plt.plot(fpr_test,tpr_test,label='ROC Curve of Test set (AUC = %0.2f)' % auc_test)\n",
    "plt.xlabel('False Positive Rate')\n",
    "plt.ylabel('True Positive Rate')\n",
    "plt.title('ROC-AUC Curve')\n",
    "plt.legend(loc=\"lower right\")"
   ]
  }
 ],
 "metadata": {
  "kernelspec": {
   "display_name": "hw2",
   "language": "python",
   "name": "hw2"
  },
  "language_info": {
   "codemirror_mode": {
    "name": "ipython",
    "version": 3
   },
   "file_extension": ".py",
   "mimetype": "text/x-python",
   "name": "python",
   "nbconvert_exporter": "python",
   "pygments_lexer": "ipython3",
   "version": "3.7.7"
  }
 },
 "nbformat": 4,
 "nbformat_minor": 4
}
