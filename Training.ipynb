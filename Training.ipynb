{
 "cells": [
  {
   "cell_type": "code",
   "execution_count": 25,
   "metadata": {},
   "outputs": [],
   "source": [
    "import torch\n",
    "from torch.utils.data.dataloader import DataLoader\n",
    "from torch.utils.data.dataset import Dataset, TensorDataset\n",
    "from torchvision import transforms, utils\n",
    "import torch.nn as nn\n",
    "import torch.optim as optim\n",
    "import pandas as pd\n",
    "import numpy as np\n",
    "import matplotlib.pyplot as plt\n",
    "import os\n",
    "from PIL import Image"
   ]
  },
  {
   "cell_type": "code",
   "execution_count": 26,
   "metadata": {},
   "outputs": [],
   "source": [
    "ROOT = \"/StudentData/HW2/train/\"\n",
    "TestFolder  = \"/StudentData/HW2/test/\""
   ]
  },
  {
   "cell_type": "code",
   "execution_count": 27,
   "metadata": {},
   "outputs": [],
   "source": [
    "class ImageDataset(Dataset):\n",
    "    def __init__(self,root,transform=None):\n",
    "        super().__init__()\n",
    "        self.root = root\n",
    "        self.transform = transform\n",
    "        self.idxtoImage = {i:file for i,file in enumerate(os.listdir(self.root))}\n",
    "\n",
    "        \n",
    "    def __len__(self):\n",
    "        return len(self.idxtoImage)\n",
    "    \n",
    "    def __getitem__(self,idx):\n",
    "        file = self.idxtoImage[idx]\n",
    "        image = Image.open(self.root+file).convert(\"RGB\")\n",
    "        if self.transform !=None:\n",
    "            image = self.transform(image)\n",
    "\n",
    "        label = int(file.split('_')[1].split('.')[0])\n",
    "        return image,label,file\n",
    "        "
   ]
  },
  {
   "cell_type": "code",
   "execution_count": 28,
   "metadata": {},
   "outputs": [],
   "source": [
    "# Hyper Parameters\n",
    "num_epochs = 10\n",
    "batch_size = 100\n",
    "learning_rate = 0.001\n",
    "\n",
    "transform_train = transforms.Compose([transforms.Resize((48,48)),transforms.ToTensor(),transforms.Normalize((0.5226, 0.4494, 0.4206), (0.2336, 0.2224, 0.2187))])\n",
    "transform_test = transforms.Compose([transforms.Resize((48,48)),transforms.ToTensor(),transforms.Normalize((0.5226, 0.4494, 0.4206), (0.2336, 0.2224, 0.2187))])\n",
    "\n",
    "train_dataset = ImageDataset(ROOT,transform_train)\n",
    "train_loader = torch.utils.data.DataLoader(dataset=train_dataset,\n",
    "                                           batch_size=batch_size, \n",
    "                                           shuffle=True)\n",
    "\n",
    "test_dataset = ImageDataset(TestFolder,transform_test)\n",
    "test_loader = torch.utils.data.DataLoader(dataset=test_dataset,\n",
    "                                           batch_size=batch_size, \n",
    "                                           shuffle=False)"
   ]
  },
  {
   "cell_type": "code",
   "execution_count": 29,
   "metadata": {},
   "outputs": [],
   "source": [
    "class Model(nn.Module):\n",
    "    def __init__(self):\n",
    "        super(Model, self).__init__()\n",
    "        self.layer1 = nn.Sequential(\n",
    "            nn.Conv2d(3, 32, kernel_size=3),\n",
    "            nn.ReLU(),\n",
    "            nn.MaxPool2d(kernel_size=3,stride=2))\n",
    "        \n",
    "        self.layer2 = nn.Sequential(\n",
    "            nn.Conv2d(32, 64, kernel_size=3),\n",
    "            nn.ReLU(),\n",
    "            nn.MaxPool2d(kernel_size=3,stride=2))\n",
    "        \n",
    "        self.layer3 = nn.Sequential(\n",
    "            nn.Conv2d(64, 64, kernel_size=3),\n",
    "            nn.ReLU(),\n",
    "            nn.MaxPool2d(kernel_size=2,stride=2))\n",
    "        \n",
    "        self.layer4 = nn.Sequential(\n",
    "            nn.Conv2d(64, 128, kernel_size=2),\n",
    "            nn.ReLU())\n",
    "        \n",
    "        self.fc1 = nn.Linear(2*2*128, 256)\n",
    "        self.ReLU = nn.ReLU()\n",
    "        self.fc2 = nn.Linear(256,2)\n",
    "        \n",
    "    def forward(self, x):\n",
    "        out = self.layer1(x)\n",
    "        out = self.layer2(out)\n",
    "        out = self.layer3(out)\n",
    "        out = self.layer4(out)\n",
    "\n",
    "        out = out.view(out.size(0), -1)\n",
    "  \n",
    "        out = self.fc1(out)\n",
    "        out = self.ReLU(out)\n",
    "        out = self.fc2(out)       \n",
    "\n",
    "        return out"
   ]
  },
  {
   "cell_type": "code",
   "execution_count": 30,
   "metadata": {},
   "outputs": [],
   "source": [
    "def to_gpu(x):\n",
    "    return x.cuda() if torch.cuda.is_available() else x"
   ]
  },
  {
   "cell_type": "code",
   "execution_count": 35,
   "metadata": {},
   "outputs": [
    {
     "name": "stdout",
     "output_type": "stream",
     "text": [
      "number of parameters:  221058\n",
      "Num of trainable parameters : 221058\n"
     ]
    }
   ],
   "source": [
    "model = Model()\n",
    "model = to_gpu(model)\n",
    "    \n",
    "# convert all the weights tensors to cuda()\n",
    "# Loss and Optimizer\n",
    "\n",
    "criterion = nn.CrossEntropyLoss()\n",
    "optimizer = torch.optim.Adam(model.parameters(), lr=learning_rate)\n",
    "\n",
    "print('number of parameters: ', sum(param.numel() for param in model.parameters()))\n",
    "print(f'Num of trainable parameters : {sum(p.numel() for p in model.parameters() if p.requires_grad)}')"
   ]
  },
  {
   "cell_type": "code",
   "execution_count": 54,
   "metadata": {},
   "outputs": [
    {
     "name": "stdout",
     "output_type": "stream",
     "text": [
      "Epoch [1/10], Iter [100/182] Loss: 0.0963\n",
      "loss of the model on the train images:  0.04064642771813876 %\n",
      "f1 of the model on the train images:  98.74430847167969 %\n",
      "loss of the model on the test images:  0.09102806302367664 %\n",
      "f1 of the model on the test images:  97.40416717529297 %\n",
      "Epoch [2/10], Iter [100/182] Loss: 0.0663\n",
      "loss of the model on the train images:  0.04345162493008815 %\n",
      "f1 of the model on the train images:  98.6676025390625 %\n",
      "loss of the model on the test images:  0.09777886521254407 %\n",
      "f1 of the model on the test images:  97.20923614501953 %\n",
      "Epoch [3/10], Iter [100/182] Loss: 0.0554\n",
      "loss of the model on the train images:  0.045375569133199956 %\n",
      "f1 of the model on the train images:  98.60484313964844 %\n",
      "loss of the model on the test images:  0.10280100561556269 %\n",
      "f1 of the model on the test images:  96.60733032226562 %\n",
      "Epoch [4/10], Iter [100/182] Loss: 0.0076\n",
      "loss of the model on the train images:  0.033533169862513985 %\n",
      "f1 of the model on the train images:  98.91592407226562 %\n",
      "loss of the model on the test images:  0.10066441109129151 %\n",
      "f1 of the model on the test images:  97.18923950195312 %\n",
      "Epoch [5/10], Iter [100/182] Loss: 0.0228\n",
      "loss of the model on the train images:  0.028087904611907778 %\n",
      "f1 of the model on the train images:  99.12474822998047 %\n",
      "loss of the model on the test images:  0.11761821179696527 %\n",
      "f1 of the model on the test images:  97.55575561523438 %\n",
      "Epoch [6/10], Iter [100/182] Loss: 0.0052\n",
      "loss of the model on the train images:  0.03262987618952928 %\n",
      "f1 of the model on the train images:  99.01985168457031 %\n",
      "loss of the model on the test images:  0.11677652776058091 %\n",
      "f1 of the model on the test images:  97.39472961425781 %\n",
      "Epoch [7/10], Iter [100/182] Loss: 0.0227\n",
      "loss of the model on the train images:  0.015723980073257263 %\n",
      "f1 of the model on the train images:  99.54792022705078 %\n",
      "loss of the model on the test images:  0.11888066131896416 %\n",
      "f1 of the model on the test images:  97.55579376220703 %\n",
      "Epoch [8/10], Iter [100/182] Loss: 0.0171\n",
      "loss of the model on the train images:  0.029991163175598887 %\n",
      "f1 of the model on the train images:  98.89108276367188 %\n",
      "loss of the model on the test images:  0.12037394688937997 %\n",
      "f1 of the model on the test images:  96.94175720214844 %\n",
      "Epoch [9/10], Iter [100/182] Loss: 0.0128\n",
      "loss of the model on the train images:  0.021239238193187394 %\n",
      "f1 of the model on the train images:  99.4123306274414 %\n",
      "loss of the model on the test images:  0.11393848504321497 %\n",
      "f1 of the model on the test images:  96.99727630615234 %\n",
      "Epoch [10/10], Iter [100/182] Loss: 0.0304\n",
      "loss of the model on the train images:  0.020845485462799487 %\n",
      "f1 of the model on the train images:  99.32643127441406 %\n",
      "loss of the model on the test images:  0.11884507651394996 %\n",
      "f1 of the model on the test images:  97.34675598144531 %\n"
     ]
    }
   ],
   "source": [
    "# train_losses = []\n",
    "# train_f1scores = []\n",
    "# test_losses = []\n",
    "# test_f1scores = []\n",
    "for epoch in range(num_epochs):\n",
    "    for i, (images, labels,files) in enumerate(train_loader):\n",
    "        images = to_gpu(images)\n",
    "        labels = to_gpu(labels)\n",
    "        optimizer.zero_grad()\n",
    "        outputs = model(images)\n",
    "\n",
    "        loss = criterion(outputs, labels)\n",
    "        loss.backward()\n",
    "        optimizer.step()\n",
    "        if ((i+1) % 100) == 0:\n",
    "            print ('Epoch [%d/%d], Iter [%d/%d] Loss: %.4f' \n",
    "                   %(epoch+1, num_epochs, i+1,\n",
    "                     len(train_dataset)//batch_size, loss.item()))\n",
    "    \n",
    "    train_loss = 0.0\n",
    "    train_tp = 0.0\n",
    "    train_fp = 0.0\n",
    "    train_fn = 0.0\n",
    "    \n",
    "    for images, labels,files in train_loader:\n",
    "        images = to_gpu(images)\n",
    "        labels = to_gpu(labels)\n",
    "        outputs = model(images)\n",
    "        train_loss += criterion(outputs,labels).item()\n",
    "\n",
    "        _, predicted = torch.max(outputs.data, 1)\n",
    "\n",
    "        train_tp += ((predicted.cpu() == 1) & (labels.cpu()==1)).sum()\n",
    "        train_fp += ((predicted.cpu() == 1) & (labels.cpu()==0)).sum()\n",
    "        train_fn += ((predicted.cpu() == 0) & (labels.cpu()==1)).sum()\n",
    "    \n",
    "    \n",
    "    train_loss = train_loss/len(train_loader)\n",
    "    train_f1 = 100*((2 * train_tp) / (2*train_tp + train_fp + train_fn))\n",
    "    \n",
    "    train_losses.append(train_loss)\n",
    "    train_f1scores.append(train_f1)\n",
    "    print('loss of the model on the train images: ',train_loss,'%')\n",
    "    print('f1 of the model on the train images: ',train_f1.item(),'%')\n",
    "    \n",
    "    test_loss = 0.0\n",
    "    test_tp = 0.0\n",
    "    test_fp = 0.0\n",
    "    test_fn = 0.0\n",
    "    \n",
    "    for images, labels,files in test_loader:\n",
    "        images = to_gpu(images)\n",
    "        labels = to_gpu(labels)\n",
    "        outputs = model(images)\n",
    "        test_loss += criterion(outputs,labels).item()\n",
    "\n",
    "        _, predicted = torch.max(outputs.data, 1)\n",
    "\n",
    "        test_tp += ((predicted.cpu() == 1) & (labels.cpu()==1)).sum()\n",
    "        test_fp += ((predicted.cpu() == 1) & (labels.cpu()==0)).sum()\n",
    "        test_fn += ((predicted.cpu() == 0) & (labels.cpu()==1)).sum()\n",
    "    \n",
    "    \n",
    "    test_loss = test_loss/len(test_loader)\n",
    "    test_f1 = 100*((2 * test_tp) / (2*test_tp + test_fp + test_fn))\n",
    "    \n",
    "    test_losses.append(test_loss)\n",
    "    test_f1scores.append(test_f1)\n",
    "    print('loss of the model on the test images: ',test_loss,'%')\n",
    "    print('f1 of the model on the test images: ',test_f1.item(),'%')\n",
    "    \n",
    "#     if accuracy>=98:\n",
    "#         torch.save(model.state_dict(), 'model_98.pkl')"
   ]
  },
  {
   "cell_type": "code",
   "execution_count": 30,
   "metadata": {},
   "outputs": [],
   "source": [
    "torch.save(model.state_dict(), 'model_97.pkl')"
   ]
  },
  {
   "cell_type": "code",
   "execution_count": 77,
   "metadata": {},
   "outputs": [
    {
     "data": {
      "text/plain": [
       "Model(\n",
       "  (layer1): Sequential(\n",
       "    (0): Conv2d(3, 32, kernel_size=(3, 3), stride=(1, 1))\n",
       "    (1): ReLU()\n",
       "    (2): MaxPool2d(kernel_size=3, stride=2, padding=0, dilation=1, ceil_mode=False)\n",
       "  )\n",
       "  (layer2): Sequential(\n",
       "    (0): Conv2d(32, 64, kernel_size=(3, 3), stride=(1, 1))\n",
       "    (1): ReLU()\n",
       "    (2): MaxPool2d(kernel_size=3, stride=2, padding=0, dilation=1, ceil_mode=False)\n",
       "  )\n",
       "  (layer3): Sequential(\n",
       "    (0): Conv2d(64, 64, kernel_size=(3, 3), stride=(1, 1))\n",
       "    (1): ReLU()\n",
       "    (2): MaxPool2d(kernel_size=2, stride=2, padding=0, dilation=1, ceil_mode=False)\n",
       "  )\n",
       "  (layer4): Sequential(\n",
       "    (0): Conv2d(64, 128, kernel_size=(2, 2), stride=(1, 1))\n",
       "    (1): ReLU()\n",
       "  )\n",
       "  (fc1): Linear(in_features=512, out_features=256, bias=True)\n",
       "  (ReLU): ReLU()\n",
       "  (fc2): Linear(in_features=256, out_features=2, bias=True)\n",
       ")"
      ]
     },
     "execution_count": 77,
     "metadata": {},
     "output_type": "execute_result"
    }
   ],
   "source": [
    "model = Model()\n",
    "model.load_state_dict(torch.load('model.pkl'))\n",
    "model.eval()"
   ]
  },
  {
   "cell_type": "code",
   "execution_count": 21,
   "metadata": {},
   "outputs": [
    {
     "name": "stdout",
     "output_type": "stream",
     "text": [
      "f1 of the model on the test images:  97.61869049072266 %\n"
     ]
    }
   ],
   "source": [
    "model.eval() \n",
    "tp = 0.0\n",
    "fp = 0.0\n",
    "fn = 0.0\n",
    "tn = 0.0\n",
    "for images, labels,files in test_loader:\n",
    "    images = to_gpu(images)\n",
    "    outputs = model(images)\n",
    "\n",
    "    _, predicted = torch.max(outputs.data, 1)\n",
    "\n",
    "    tp += ((predicted.cpu() == 1) & (labels==1)).sum()\n",
    "    fp += ((predicted.cpu() == 1) & (labels==0)).sum()\n",
    "    fn += ((predicted.cpu() == 0) & (labels==1)).sum()\n",
    "    tn += ((predicted.cpu() == 0) & (labels==0)).sum()\n",
    "\n",
    "        \n",
    "f1 = 100*((2 * tp) / (2*tp + fp + fn))\n",
    "\n",
    "print('f1 of the model on the test images: ',f1.item(),'%')\n"
   ]
  },
  {
   "cell_type": "code",
   "execution_count": null,
   "metadata": {},
   "outputs": [],
   "source": [
    "mean = 0.\n",
    "std = 0.\n",
    "nb_samples = 0.\n",
    "for (images, labels,files) in train_loader:\n",
    "    batch_samples = images.size(0)\n",
    "    data = images.view(batch_samples, images.size(1), -1)\n",
    "    mean += data.mean(2).sum(0)\n",
    "    std += data.std(2).sum(0)\n",
    "    nb_samples += batch_samples\n",
    "\n",
    "mean /= nb_samples\n",
    "std /= nb_samples"
   ]
  },
  {
   "cell_type": "code",
   "execution_count": 70,
   "metadata": {},
   "outputs": [
    {
     "data": {
      "text/plain": [
       "<matplotlib.legend.Legend at 0x7f5ee04ef450>"
      ]
     },
     "execution_count": 70,
     "metadata": {},
     "output_type": "execute_result"
    },
    {
     "data": {
      "image/png": "[encoded data removed]",
      "text/plain": [
       "<Figure size 432x288 with 1 Axes>"
      ]
     },
     "metadata": {
      "needs_background": "light"
     },
     "output_type": "display_data"
    }
   ],
   "source": [
    "plt.locator_params(nbins=8)\n",
    "plt.plot(train_losses,label='Train')\n",
    "plt.plot(test_losses,label='Test')\n",
    "plt.xlabel('Epoch')\n",
    "plt.ylabel('Loss Value')\n",
    "plt.title('Value of Loss Function by Epoch graph')\n",
    "plt.legend()"
   ]
  },
  {
   "cell_type": "code",
   "execution_count": 66,
   "metadata": {},
   "outputs": [
    {
     "data": {
      "text/plain": [
       "<matplotlib.legend.Legend at 0x7f5ee0648a90>"
      ]
     },
     "execution_count": 66,
     "metadata": {},
     "output_type": "execute_result"
    },
    {
     "data": {
      "image/png": "[encoded data removed]",
      "text/plain": [
       "<Figure size 432x288 with 1 Axes>"
      ]
     },
     "metadata": {
      "needs_background": "light"
     },
     "output_type": "display_data"
    }
   ],
   "source": [
    "plt.locator_params(nbins=7)\n",
    "plt.plot(train_f1scores,label='Train')\n",
    "plt.plot(test_f1scores,label='Test')\n",
    "plt.xlabel('Epoch')\n",
    "plt.ylabel('F1 Score')\n",
    "plt.title('F1 Score by Epoch graph')\n",
    "plt.legend()"
   ]
  },
  {
   "cell_type": "code",
   "execution_count": 81,
   "metadata": {},
   "outputs": [
    {
     "name": "stdout",
     "output_type": "stream",
     "text": [
      "tensor([1, 1]) tensor([[2.5494e-04, 9.9975e-01],\n",
      "        [1.5627e-04, 9.9984e-01]], grad_fn=<SoftmaxBackward>)\n"
     ]
    },
    {
     "name": "stderr",
     "output_type": "stream",
     "text": [
      "/home/student/.conda/envs/hw2/lib/python3.7/site-packages/ipykernel_launcher.py:6: UserWarning: Implicit dimension choice for softmax has been deprecated. Change the call to include dim=X as an argument.\n",
      "  \n"
     ]
    }
   ],
   "source": [
    "train_loader_all = torch.utils.data.DataLoader(dataset=train_dataset,\n",
    "                                           batch_size=2, \n",
    "                                           shuffle=False)\n",
    "for images, labels,files in train_loader_all:\n",
    "        softmax = nn.Softmax()\n",
    "        outputs = softmax(model(images))\n",
    "        print(labels,outputs)\n",
    "        break"
   ]
  },
  {
   "cell_type": "code",
   "execution_count": 71,
   "metadata": {},
   "outputs": [
    {
     "data": {
      "text/plain": [
       "18259"
      ]
     },
     "execution_count": 71,
     "metadata": {},
     "output_type": "execute_result"
    }
   ],
   "source": [
    "len(train_dataset)"
   ]
  }
 ],
 "metadata": {
  "kernelspec": {
   "display_name": "hw2",
   "language": "python",
   "name": "hw2"
  },
  "language_info": {
   "codemirror_mode": {
    "name": "ipython",
    "version": 3
   },
   "file_extension": ".py",
   "mimetype": "text/x-python",
   "name": "python",
   "nbconvert_exporter": "python",
   "pygments_lexer": "ipython3",
   "version": "3.7.7"
  }
 },
 "nbformat": 4,
 "nbformat_minor": 4
}
