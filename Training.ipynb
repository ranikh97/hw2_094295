{
 "cells": [
  {
   "cell_type": "code",
   "execution_count": 1,
   "metadata": {},
   "outputs": [],
   "source": [
    "import torch\n",
    "from torch.utils.data.dataloader import DataLoader\n",
    "from torch.utils.data.dataset import Dataset, TensorDataset\n",
    "from torchvision import transforms, utils\n",
    "import pandas as pd\n",
    "import numpy as np\n",
    "import matplotlib.pyplot as plt\n",
    "import os\n",
    "from PIL import Image"
   ]
  },
  {
   "cell_type": "code",
   "execution_count": 2,
   "metadata": {},
   "outputs": [],
   "source": [
    "ROOT = \"/StudentData/HW2/train/\""
   ]
  },
  {
   "cell_type": "code",
   "execution_count": 30,
   "metadata": {},
   "outputs": [
    {
     "data": {
      "text/plain": [
       "(tensor([[[0.4745, 0.3725, 0.4667,  ..., 0.4157, 0.3961, 0.3725],\n",
       "          [0.4510, 0.4157, 0.4745,  ..., 0.4314, 0.4196, 0.3882],\n",
       "          [0.4275, 0.4353, 0.4824,  ..., 0.4392, 0.4314, 0.4039],\n",
       "          ...,\n",
       "          [0.6745, 0.6667, 0.7059,  ..., 0.7333, 0.7098, 0.7098],\n",
       "          [0.6588, 0.7216, 0.6902,  ..., 0.6941, 0.7098, 0.6980],\n",
       "          [0.6706, 0.7137, 0.6627,  ..., 0.6431, 0.6784, 0.6902]],\n",
       " \n",
       "         [[0.4196, 0.3176, 0.4039,  ..., 0.3216, 0.3098, 0.2941],\n",
       "          [0.3882, 0.3529, 0.4118,  ..., 0.3294, 0.3255, 0.3020],\n",
       "          [0.3569, 0.3647, 0.4118,  ..., 0.3333, 0.3294, 0.3098],\n",
       "          ...,\n",
       "          [0.6078, 0.6000, 0.6392,  ..., 0.6706, 0.6471, 0.6471],\n",
       "          [0.5922, 0.6549, 0.6235,  ..., 0.6275, 0.6431, 0.6314],\n",
       "          [0.6039, 0.6471, 0.5961,  ..., 0.5765, 0.6118, 0.6196]],\n",
       " \n",
       "         [[0.3686, 0.2667, 0.3451,  ..., 0.2118, 0.2157, 0.2000],\n",
       "          [0.3373, 0.3020, 0.3608,  ..., 0.2235, 0.2235, 0.2078],\n",
       "          [0.3098, 0.3176, 0.3647,  ..., 0.2196, 0.2235, 0.2078],\n",
       "          ...,\n",
       "          [0.5686, 0.5608, 0.6000,  ..., 0.6196, 0.5961, 0.5961],\n",
       "          [0.5529, 0.6157, 0.5843,  ..., 0.5882, 0.6039, 0.5922],\n",
       "          [0.5647, 0.6078, 0.5569,  ..., 0.5373, 0.5725, 0.5804]]]),\n",
       " '1',\n",
       " '012979_1.jpg')"
      ]
     },
     "execution_count": 30,
     "metadata": {},
     "output_type": "execute_result"
    }
   ],
   "source": [
    "class ImageDataset(Dataset):\n",
    "    def __init__(self,root,transform=None):\n",
    "        super().__init__()\n",
    "        self.root = root\n",
    "        self.transform = transform\n",
    "        self.idxtoImage = {i:file for i,file in enumerate(os.listdir(self.root))}\n",
    "\n",
    "        \n",
    "    def __len__(self):\n",
    "        return len(self.idxtoImage)\n",
    "    \n",
    "    def __getitem__(self,idx):\n",
    "        file = self.idxtoImage[idx]\n",
    "        image = Image.open(self.root+file).convert(\"RGB\")\n",
    "        if self.transform !=None:\n",
    "            image = self.transform(image)\n",
    "        label = file.split('_')[1].split('.')[0]\n",
    "        return image,label,file\n",
    "        \n",
    "\n",
    "transform = transforms.Compose([transforms.ToTensor()])\n",
    "train = ImageDataset(ROOT,transform)\n",
    "train[0]"
   ]
  },
  {
   "cell_type": "code",
   "execution_count": null,
   "metadata": {},
   "outputs": [],
   "source": [
    "()"
   ]
  }
 ],
 "metadata": {
  "kernelspec": {
   "display_name": "hw2",
   "language": "python",
   "name": "hw2"
  },
  "language_info": {
   "codemirror_mode": {
    "name": "ipython",
    "version": 3
   },
   "file_extension": ".py",
   "mimetype": "text/x-python",
   "name": "python",
   "nbconvert_exporter": "python",
   "pygments_lexer": "ipython3",
   "version": "3.7.7"
  }
 },
 "nbformat": 4,
 "nbformat_minor": 4
}
